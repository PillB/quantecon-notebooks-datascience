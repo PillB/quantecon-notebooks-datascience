{
 "cells": [
  {
   "cell_type": "markdown",
   "metadata": {},
   "source": [
    "# Data Science\n",
    "\n",
    "**Prerequisites**\n",
    "\n",
    "- [Python Fundamentals](pyfun/index.ipynb)  \n",
    "- [Scientific Computing](scientific/index.ipynb)  \n",
    "- [Pandas](pandas/index.ipynb)  \n",
    "\n",
    "\n",
    "**Outcomes**\n",
    "\n",
    "- TODO  "
   ]
  },
  {
   "cell_type": "markdown",
   "metadata": {},
   "source": [
    "## Outline\n",
    "\n",
    "- [Data Science](#Data-Science)  \n",
    "  - [What is Data Science?](#What-is-Data-Science?)  \n",
    "  - [Machine Learning](#Machine-Learning)  "
   ]
  },
  {
   "cell_type": "markdown",
   "metadata": {},
   "source": [
    "## What is Data Science?\n",
    "\n",
    "If you were to ask practicing data scientists to define data science, it is\n",
    "likely that each respondant would give a slight different answer\n",
    "\n",
    "This is because data science is a young, popular, and rapidly growing field\n",
    "\n",
    "Instead of defining what data science is, we will attempt to describe what a\n",
    "data scientist does\n",
    "\n",
    "A typical data scientist will perform some subset of the tasks below:\n",
    "\n",
    "- Collect, clean, and prepare raw data for analysis  \n",
    "- Create informative data visualizations  \n",
    "- Employ statistics or machine learning models and algorithms to extract insight from the data  \n",
    "\n",
    "\n",
    "Two things set data science apart from other fields like statistics and machine\n",
    "learning: (1) it is almost always applied with the end goal of making\n",
    "data-informed decisions and (2) the target audience is often a less-technical\n",
    "group (like business managers) who are interested in the outcome of the study.\n",
    "\n",
    "You have already been given the base toolkit needed to start practicing data science\n",
    "\n",
    "In this section of the course we will focus on the models and algorithms that\n",
    "power data driven insight"
   ]
  },
  {
   "cell_type": "markdown",
   "metadata": {},
   "source": [
    "### Relation to other fields\n",
    "\n",
    "How is data science compared to …\n",
    "\n",
    "- Statistics and probability:  \n",
    "- Data mining:  \n",
    "- Machine learning:  "
   ]
  },
  {
   "cell_type": "markdown",
   "metadata": {},
   "source": [
    "## Machine Learning\n",
    "\n",
    "[Machine Learning](https://en.wikipedia.org/wiki/Machine_learning) is the\n",
    "study of algorithms and statistical models used to train computers to do\n",
    "specific tasks\n",
    "\n",
    "Machine learning is made up of three sub-fields:\n",
    "\n",
    "1. Supervised learning: algorithms that use input and output pairs to train a model that can be used to predict outputs for not-before-seen inputs  \n",
    "1. Unsupervised learning: algorithms that are used to cluster, group, or  \n",
    "1. Reinforcement learning: algorithms that learn to make optimal choices given observed data and reward signals  \n",
    "\n",
    "\n",
    "In the coming lectures we will study supervised learning in detail, introduce\n",
    "the main concepts of unsupervised learning, but not study reinforcement learning\n",
    "\n",
    "We refer interested readers to the [Reinforcment Learning book](http://incompleteideas.net/book/RLbook2018.pdf) (full version free online) by\n",
    "Sutton and Barto, but encourage you to wait until after this course so you are\n",
    "prepared for the advanced topics discussed there"
   ]
  },
  {
   "cell_type": "markdown",
   "metadata": {},
   "source": [
    "### Supervised Learning\n",
    "\n",
    "Supervised learning is broken into to two main subfields: regression and classification\n",
    "\n",
    "Regression algorithms learn to predict values or numbers\n",
    "\n",
    "Examples of regression problems (situations where you would use regression algorithms) are\n",
    "\n",
    "- Predicting house prices based on features of the home (number of bedrooms, age, distance from airport, ect.)  \n",
    "- Predicting an employees salary based on individual and demographic information  \n",
    "- Predict life expectancy based on a country’s fertility and GDP  \n",
    "\n",
    "\n",
    "Classification algorithms learn to predict classes or groups\n",
    "\n",
    "Examples of classification problems are\n",
    "\n",
    "- Predicting if the economy will be in a recession or not in a recession based on leading variables  \n",
    "- Determining if a picture contains a cat or a dog  \n",
    "- Handwriting recognition  \n",
    "- Predict the species of flower given measurements of its petals and sepals  \n",
    "\n",
    "\n",
    "All supervised learning algorithms follow the same three step procedure:\n",
    "\n",
    "1. *Predict/Evaluate*: training data is fed into a model outputs are produced (numbers for regression, labels for classification)  \n",
    "1. *Error/Loss*: A loss or error function is evaluated that determines how well the model did at matching the target  \n",
    "1. *Train/Learn*: Model parameters are adjusted to decrease the loss  \n",
    "\n",
    "\n",
    "These three steps are repeated in a loop until either the loss reaches a\n",
    "suitably small level or stops decreasing alltogether\n",
    "\n",
    "If this seems very abstract right now, **do not panic**\n",
    "\n",
    "We will work through many examples of how that procedure works in the coming lectures"
   ]
  },
  {
   "cell_type": "markdown",
   "metadata": {},
   "source": [
    "### Unsupervised Learning\n",
    "\n",
    "Unsupervised learning is broken into three main subfields: clustering, TODO"
   ]
  }
 ],
 "metadata": {
  "filename": "intro_data_science.rst",
  "kernelspec": {
   "display_name": "Python",
   "language": "python3",
   "name": "python3"
  },
  "title": "Data Science"
 },
 "nbformat": 4,
 "nbformat_minor": 2
}