{
 "cells": [
  {
   "cell_type": "markdown",
   "metadata": {},
   "source": [
    "# Mapping in Python\n",
    "\n",
    "> **Co-author**\n",
    "- [Kim Ruhl *University of Wisconsin*](http://kimjruhl.com)\n",
    "\n",
    "\n",
    "**Prerequisites**\n",
    "\n",
    "- [matplotlib Introduction](pandas/matplotlib.ipynb)  \n",
    "- [Visualization Rules](visualization_rules.ipynb)  \n",
    "\n",
    "\n",
    "**Outcomes**\n",
    "\n",
    "- Use geopandas to create maps  "
   ]
  },
  {
   "cell_type": "markdown",
   "metadata": {},
   "source": [
    "## Outline\n",
    "\n",
    "- [Mapping in Python](#Mapping-in-Python)  \n",
    "  - [Mapping in Python](#Mapping-in-Python)  \n",
    "  - [Case Study: Voting in Wisconsin](#Case-Study:-Voting-in-Wisconsin)  "
   ]
  },
  {
   "cell_type": "code",
   "execution_count": null,
   "metadata": {
    "hide-output": false
   },
   "outputs": [],
   "source": [
    "# Uncomment following line to install on colab\n",
    "#! pip install qeds fiona geopandas xgboost gensim folium pyLDAvis"
   ]
  },
  {
   "cell_type": "code",
   "execution_count": null,
   "metadata": {
    "hide-output": false
   },
   "outputs": [],
   "source": [
    "import geopandas as gpd\n",
    "import matplotlib.pyplot as plt\n",
    "import pandas as pd\n",
    "\n",
    "from shapely.geometry import Point\n",
    "\n",
    "%matplotlib inline\n",
    "# activate plot theme\n",
    "import qeds\n",
    "qeds.themes.mpl_style();"
   ]
  },
  {
   "cell_type": "markdown",
   "metadata": {},
   "source": [
    "## Mapping in Python\n",
    "\n",
    "In this lecture, we will use a new package, `geopandas`, to create maps\n",
    "\n",
    "Maps are really quite complicated… We are trying to project a spherical surface onto a flat figure, which is an\n",
    "inherently complicated endeavor\n",
    "\n",
    "Luckily, `geopandas` will do most of the heavy lifting for us\n",
    "\n",
    "Let’s start with a DataFrame that has the latitude and longitude of various South American cities\n",
    "\n",
    "Our goal is to turn them into something we can plot – In this case, a `GeoDataFrame`"
   ]
  },
  {
   "cell_type": "code",
   "execution_count": null,
   "metadata": {
    "hide-output": false
   },
   "outputs": [],
   "source": [
    "df = pd.DataFrame({\n",
    "    'City': ['Buenos Aires', 'Brasilia', 'Santiago', 'Bogota', 'Caracas'],\n",
    "    'Country': ['Argentina', 'Brazil', 'Chile', 'Colombia', 'Venezuela'],\n",
    "    'Latitude': [-34.58, -15.78, -33.45, 4.60, 10.48],\n",
    "    'Longitude': [-58.66, -47.91, -70.66, -74.08, -66.86]\n",
    "})"
   ]
  },
  {
   "cell_type": "markdown",
   "metadata": {},
   "source": [
    "In order to map the cities, we need tuples of coordinates\n",
    "\n",
    "We will generate these by zipping the latitude and longitude together and storing them in a new column named `Coordinates`"
   ]
  },
  {
   "cell_type": "code",
   "execution_count": null,
   "metadata": {
    "hide-output": false
   },
   "outputs": [],
   "source": [
    "df[\"Coordinates\"] = list(zip(df.Longitude, df.Latitude))\n",
    "df.head()"
   ]
  },
  {
   "cell_type": "markdown",
   "metadata": {},
   "source": [
    "Our next step is to turn the tuple into a `Shapely` `Point` object\n",
    "\n",
    "We will do this by applying Shapely’s `Point` method to the `Coordinates` column"
   ]
  },
  {
   "cell_type": "code",
   "execution_count": null,
   "metadata": {
    "hide-output": false
   },
   "outputs": [],
   "source": [
    "df[\"Coordinates\"] = df[\"Coordinates\"].apply(Point)\n",
    "df.head()"
   ]
  },
  {
   "cell_type": "markdown",
   "metadata": {},
   "source": [
    "Finally, we will convert our DataFrame into a GeoDataFrame by calling the\n",
    "geopandas.DataFrame method\n",
    "\n",
    "The benefit of this is that a GeoDataFrame is a data structure with much of the convenience of a\n",
    "normal DataFrame but that also understands how to plot maps\n",
    "\n",
    "The important part in the code below is that we specify the column that contains the geometry data\n",
    "\n",
    "See this excerpt from the docs\n",
    "\n",
    "> The most important property of a GeoDataFrame is that it always has one GeoSeries column that\n",
    "holds a special status. This GeoSeries is referred to as the GeoDataFrame’s “geometry”. When a\n",
    "spatial method is applied to a GeoDataFrame (or a spatial attribute like area is called), this\n",
    "commands will always act on the “geometry” column."
   ]
  },
  {
   "cell_type": "code",
   "execution_count": null,
   "metadata": {
    "hide-output": false
   },
   "outputs": [],
   "source": [
    "gdf = gpd.GeoDataFrame(df, geometry=\"Coordinates\")\n",
    "gdf.head()"
   ]
  },
  {
   "cell_type": "code",
   "execution_count": null,
   "metadata": {
    "hide-output": false
   },
   "outputs": [],
   "source": [
    "# Doesn't look different than a vanilla DataFrame...let's make sure we have what we want\n",
    "print('gdf is of type:', type(gdf))\n",
    "\n",
    "# And how can we tell which column is the geometry column?\n",
    "print('\\nThe geometry column is:', gdf.geometry.name)"
   ]
  },
  {
   "cell_type": "markdown",
   "metadata": {},
   "source": [
    "### Plotting a map\n",
    "\n",
    "Great, now we have our points in the GeoDataFrame\n",
    "\n",
    "Let’s plot the locations on a map\n",
    "\n",
    "This will require 3 steps\n",
    "\n",
    "1. Get the map  \n",
    "1. Plot the map  \n",
    "1. Plot the points (our cities) on the map  "
   ]
  },
  {
   "cell_type": "markdown",
   "metadata": {},
   "source": [
    "#### 1. Get the map\n",
    "\n",
    "An organization called [Natural Earth](https://www.naturalearthdata.com/) compiled the map data\n",
    "that we use here\n",
    "\n",
    "The file provides the outlines of countries over which we will plot the locations\n",
    "of the cities in our GeoDataFrame\n",
    "\n",
    "Luckily, `geopandas` already comes with this data bundled into it, so we don’t\n",
    "have to hunt it down!"
   ]
  },
  {
   "cell_type": "code",
   "execution_count": null,
   "metadata": {
    "hide-output": false
   },
   "outputs": [],
   "source": [
    "# Grab low resolution world file\n",
    "world = gpd.read_file(gpd.datasets.get_path(\"naturalearth_lowres\"))\n",
    "\n",
    "world.head()"
   ]
  },
  {
   "cell_type": "markdown",
   "metadata": {},
   "source": [
    "`world` is a GeoDataFrame with the following columns\n",
    "\n",
    "- `pop_est`: Contains a population estimate for the country  \n",
    "- `continent`: Specifies which continent the country is in  \n",
    "- `name`: The country’s name  \n",
    "- `iso_a3`: The country’s 3 letter abbreviation  \n",
    "- `gdp_md_est`: An estimate of country’s GDP  \n",
    "- `geometry`: A `POLYGON` for each country – We will learn more about these soon  "
   ]
  },
  {
   "cell_type": "code",
   "execution_count": null,
   "metadata": {
    "hide-output": false
   },
   "outputs": [],
   "source": [
    "world.geometry.name"
   ]
  },
  {
   "cell_type": "markdown",
   "metadata": {},
   "source": [
    "Notice that the geometry for this GeoDataFrame is stored in the `geometry` column\n",
    "\n",
    "**A quick note about polygons**\n",
    "\n",
    "Instead of points (as in the case of our cities), the geometry objects are now polygons\n",
    "\n",
    "A polygon is likely what you already think it is – It’s a collection of ordered points\n",
    "that are connected by straight lines\n",
    "\n",
    "The smaller the distance between points, the more readily the polygon can approximate\n",
    "non-linear shapes\n",
    "\n",
    "Let’s see an example of a polygon"
   ]
  },
  {
   "cell_type": "code",
   "execution_count": null,
   "metadata": {
    "hide-output": false
   },
   "outputs": [],
   "source": [
    "world.loc[2, 'geometry']"
   ]
  },
  {
   "cell_type": "markdown",
   "metadata": {},
   "source": [
    "Notice, it displayed the country of Albania."
   ]
  },
  {
   "cell_type": "code",
   "execution_count": null,
   "metadata": {
    "hide-output": false
   },
   "outputs": [],
   "source": [
    "# Returns two arrays that hold the x and y coordinates of the points that define the polygon's exterior.\n",
    "x, y = world.loc[2,'geometry'].exterior.coords.xy\n",
    "\n",
    "# How many points?\n",
    "print('Points in the exterior of Albania:', len(x))"
   ]
  },
  {
   "cell_type": "markdown",
   "metadata": {},
   "source": [
    "Let’s see another"
   ]
  },
  {
   "cell_type": "code",
   "execution_count": null,
   "metadata": {
    "hide-output": false
   },
   "outputs": [],
   "source": [
    "world.loc[0, 'geometry']"
   ]
  },
  {
   "cell_type": "code",
   "execution_count": null,
   "metadata": {
    "hide-output": false
   },
   "outputs": [],
   "source": [
    "# Returns two arrays that hold the x and y coordinates of the points that define the polygon's exterior.\n",
    "x, y = world.loc[0, 'geometry'].exterior.coords.xy\n",
    "\n",
    "# How many points?\n",
    "print('Points in the exterior of Afghanistan:', len(x))"
   ]
  },
  {
   "cell_type": "markdown",
   "metadata": {},
   "source": [
    "Notice that now we’ve displayed Afghanistan\n",
    "\n",
    "This is a more complex shape than Albania and so required more points"
   ]
  },
  {
   "cell_type": "markdown",
   "metadata": {},
   "source": [
    "#### 2. Plotting the map"
   ]
  },
  {
   "cell_type": "code",
   "execution_count": null,
   "metadata": {
    "hide-output": false
   },
   "outputs": [],
   "source": [
    "fig, gax = plt.subplots(figsize=(10,10))\n",
    "\n",
    "# By only plotting rows in which the continent is 'South America' we only plot SA.\n",
    "world.query(\"continent == 'South America'\").plot(ax=gax, edgecolor='black',color='white')\n",
    "\n",
    "# By the way, if you haven't read the book 'longitude' by Dava Sobel, you should...\n",
    "gax.set_xlabel('longitude')\n",
    "gax.set_ylabel('latitude')\n",
    "\n",
    "gax.spines['top'].set_visible(False)\n",
    "gax.spines['right'].set_visible(False)\n",
    "\n",
    "plt.show()"
   ]
  },
  {
   "cell_type": "markdown",
   "metadata": {},
   "source": [
    "Creating this map may have been easier than you expected!\n",
    "\n",
    "This is because behind the scenes, a lot of heavy lifting is going on\n",
    "\n",
    "There are classes (and even majors!) that focus on the theory and thought\n",
    "that goes into creating maps, but, for now, we are happy to rely on the work done by the\n",
    "experts behind `geopandas` and the related libraries"
   ]
  },
  {
   "cell_type": "markdown",
   "metadata": {},
   "source": [
    "#### 3. Plot the cities\n",
    "\n",
    "In the code below, we run the same commands as before to plot the counties in South America, but\n",
    ", now, we also plot the data in `gdf` which had the location of various cities in South America"
   ]
  },
  {
   "cell_type": "code",
   "execution_count": null,
   "metadata": {
    "hide-output": false
   },
   "outputs": [],
   "source": [
    "# Step 3: plot the cities onto the map\n",
    "# We mostly use the code from before --- we still want the country borders plotted --- and we\n",
    "# add a command to plot the cities\n",
    "fig, gax = plt.subplots(figsize=(10,10))\n",
    "\n",
    "# By only plotting rows in which the continent is 'South America' we only plot, well,\n",
    "# South America.\n",
    "world.query(\"continent == 'South America'\").plot(ax = gax, edgecolor='black', color='white')\n",
    "\n",
    "# This plot the cities. It's the same sytax, but we are plotting from a different GeoDataFrame.\n",
    "# I want the cities as pale red dots.\n",
    "gdf.plot(ax=gax, color='red', alpha = 0.5)\n",
    "\n",
    "gax.set_xlabel('longitude')\n",
    "gax.set_ylabel('latitude')\n",
    "gax.set_title('South America')\n",
    "\n",
    "gax.spines['top'].set_visible(False)\n",
    "gax.spines['right'].set_visible(False)\n",
    "\n",
    "plt.show()"
   ]
  },
  {
   "cell_type": "markdown",
   "metadata": {},
   "source": [
    "**Adding labels to points**\n",
    "\n",
    "Finally, we might want to consider annotating the cities so we know which cities they are"
   ]
  },
  {
   "cell_type": "code",
   "execution_count": null,
   "metadata": {
    "hide-output": false
   },
   "outputs": [],
   "source": [
    "# Step 3: plot the cities onto the map\n",
    "# We mostly use the code from before --- we still want the country borders ploted --- and we add a command to plot the cities\n",
    "fig, gax = plt.subplots(figsize=(10,10))\n",
    "\n",
    "# By only plotting rows in which the continent is 'South America' we only plot, well, South America.\n",
    "world.query(\"continent == 'South America'\").plot(ax = gax, edgecolor='black', color='white')\n",
    "\n",
    "# This plot the cities. It's the same sytax, but we are plotting from a different GeoDataFrame. I want the\n",
    "# cities as pale red dots.\n",
    "gdf.plot(ax=gax, color='red', alpha = 0.5)\n",
    "\n",
    "gax.set_xlabel('longitude')\n",
    "gax.set_ylabel('latitude')\n",
    "gax.set_title('South America')\n",
    "\n",
    "# Kill the spines...\n",
    "gax.spines['top'].set_visible(False)\n",
    "gax.spines['right'].set_visible(False)\n",
    "\n",
    "# ...or get rid of all the axis. Is it important to know the lat and long?\n",
    "# plt.axis('off')\n",
    "\n",
    "\n",
    "# Label the cities\n",
    "for x, y, label in zip(gdf['Coordinates'].x, gdf['Coordinates'].y, gdf['City']):\n",
    "    gax.annotate(label, xy=(x,y), xytext=(4,4), textcoords='offset points')\n",
    "\n",
    "plt.show()"
   ]
  },
  {
   "cell_type": "markdown",
   "metadata": {},
   "source": [
    "## Case Study: Voting in Wisconsin\n",
    "\n",
    "In the example that follows, we will demonstrate how each county in Wisconsin voted during the 2016\n",
    "Presidential Election\n",
    "\n",
    "Along the way we will learn a couple of valuable lessons:\n",
    "\n",
    "1. Where to find shape files for US states and counties  \n",
    "1. Practice matching census style data to shape files  "
   ]
  },
  {
   "cell_type": "markdown",
   "metadata": {},
   "source": [
    "### Find and plot state border\n",
    "\n",
    "Our first step will be to find the border for the state of interest. This can be found on the [US\n",
    "Census’s website here](https://www.census.gov/geo/maps-data/data/cbf/cbf_state.html)\n",
    "\n",
    "You can download the `cb_2016_us_state_5m.zip` by hand, or simply allow `geopandas` to extract\n",
    "the relevant information from the zip file online"
   ]
  },
  {
   "cell_type": "code",
   "execution_count": null,
   "metadata": {
    "hide-output": false
   },
   "outputs": [],
   "source": [
    "state_df = gpd.read_file(\"http://www2.census.gov/geo/tiger/GENZ2016/shp/cb_2016_us_state_5m.zip\")\n",
    "state_df.head()"
   ]
  },
  {
   "cell_type": "code",
   "execution_count": null,
   "metadata": {
    "hide-output": false
   },
   "outputs": [],
   "source": [
    "print(state_df.columns)"
   ]
  },
  {
   "cell_type": "markdown",
   "metadata": {},
   "source": [
    "We have various columns, but, most importantly, we can find the right geometry by filtering on name"
   ]
  },
  {
   "cell_type": "code",
   "execution_count": null,
   "metadata": {
    "hide-output": false
   },
   "outputs": [],
   "source": [
    "fig, gax = plt.subplots(figsize=(10, 10))\n",
    "state_df.query(\"NAME == 'Wisconsin'\").plot(ax=gax, edgecolor=\"black\", color=\"white\")\n",
    "plt.show()"
   ]
  },
  {
   "cell_type": "markdown",
   "metadata": {},
   "source": [
    "### Find and plot county borders\n",
    "\n",
    "Next we will add the county borders to our map\n",
    "\n",
    "The county shape files (for the entire US) can be found on the [Census\n",
    "site](https://www.census.gov/geo/maps-data/data/cbf/cbf_counties.html)\n",
    "\n",
    "Once again we will use the 5m resolution"
   ]
  },
  {
   "cell_type": "code",
   "execution_count": null,
   "metadata": {
    "hide-output": false
   },
   "outputs": [],
   "source": [
    "county_df = gpd.read_file(\"http://www2.census.gov/geo/tiger/GENZ2016/shp/cb_2016_us_county_5m.zip\")\n",
    "county_df.head()"
   ]
  },
  {
   "cell_type": "code",
   "execution_count": null,
   "metadata": {
    "hide-output": false
   },
   "outputs": [],
   "source": [
    "print(county_df.columns)"
   ]
  },
  {
   "cell_type": "markdown",
   "metadata": {},
   "source": [
    "Wisconsin’s FIPS code is 55 so we will make sure that we only keep those counties"
   ]
  },
  {
   "cell_type": "code",
   "execution_count": null,
   "metadata": {
    "hide-output": false
   },
   "outputs": [],
   "source": [
    "county_df = county_df.query(\"STATEFP == '55'\")"
   ]
  },
  {
   "cell_type": "markdown",
   "metadata": {},
   "source": [
    "Now we can plot all of the counties in Wisconsin"
   ]
  },
  {
   "cell_type": "code",
   "execution_count": null,
   "metadata": {
    "hide-output": false
   },
   "outputs": [],
   "source": [
    "fig, gax = plt.subplots(figsize=(10, 10))\n",
    "\n",
    "state_df.query(\"NAME == 'Wisconsin'\").plot(ax=gax, edgecolor=\"black\", color=\"white\")\n",
    "county_df.plot(ax=gax, edgecolor=\"black\", color=\"white\")\n",
    "\n",
    "plt.show()"
   ]
  },
  {
   "cell_type": "markdown",
   "metadata": {},
   "source": [
    "### Get vote data\n",
    "\n",
    "The final step is to get the vote data\n",
    "\n",
    "It can be found online on [this site](https://elections.wi.gov/elections-voting/results/2016/fall-general)\n",
    "\n",
    "Our friend Kim says,\n",
    "\n",
    "> Go ahead and open up the file. It’s a mess! I saved a cleaned up version of the file to\n",
    "`results.csv` which we can use to save the hassle with cleaning the data. For fun, you should\n",
    "load the raw data and try beating it into shape. That’s what you normally would have to do…\n",
    "and it’s fun.\n",
    "\n",
    "\n",
    "The only thing we would add to what he said is that such an exercise is also “good for you” (in a\n",
    "similar way as vegetables being good for you)\n",
    "\n",
    "But, for the example in class, we’ll simply start with his cleaned data"
   ]
  },
  {
   "cell_type": "code",
   "execution_count": null,
   "metadata": {
    "hide-output": false
   },
   "outputs": [],
   "source": [
    "results = pd.read_csv(\"http://sscc.wisc.edu/~ruhl2/f18_econ_690/results.csv\", thousands=\",\")\n",
    "results.head()"
   ]
  },
  {
   "cell_type": "markdown",
   "metadata": {},
   "source": [
    "Notice that this is NOT a GeoDataFrame…\n",
    "\n",
    "It has no geographical information, but what it does have are the names of each county\n",
    "\n",
    "We will be able to use this to match to the counties from `county_df`\n",
    "\n",
    "First, there is a little bit of cleaning up to finish."
   ]
  },
  {
   "cell_type": "code",
   "execution_count": null,
   "metadata": {
    "hide-output": false
   },
   "outputs": [],
   "source": [
    "results[\"county\"] = results[\"county\"].str.title()\n",
    "results[\"county\"] = results[\"county\"].str.strip()\n",
    "county_df[\"NAME\"] = county_df[\"NAME\"].str.title()\n",
    "county_df[\"NAME\"] = county_df[\"NAME\"].str.strip()"
   ]
  },
  {
   "cell_type": "markdown",
   "metadata": {},
   "source": [
    "Then we can merge the election results with the county data"
   ]
  },
  {
   "cell_type": "code",
   "execution_count": null,
   "metadata": {
    "hide-output": false
   },
   "outputs": [],
   "source": [
    "res_w_states = county_df.merge(results, left_on=\"NAME\", right_on=\"county\", how=\"inner\")"
   ]
  },
  {
   "cell_type": "markdown",
   "metadata": {},
   "source": [
    "Next we’ll create a new variable called `trump_share` which will denote what percent of the votes\n",
    "Donald Trump won during the election"
   ]
  },
  {
   "cell_type": "code",
   "execution_count": null,
   "metadata": {
    "hide-output": false
   },
   "outputs": [],
   "source": [
    "res_w_states[\"trump_share\"] = res_w_states[\"trump\"] / (res_w_states[\"total\"])\n",
    "res_w_states[\"rel_trump_share\"] = res_w_states[\"trump\"] / (res_w_states[\"trump\"]+res_w_states[\"clinton\"])\n",
    "res_w_states.head()"
   ]
  },
  {
   "cell_type": "markdown",
   "metadata": {},
   "source": [
    "Finally we can create our map"
   ]
  },
  {
   "cell_type": "code",
   "execution_count": null,
   "metadata": {
    "hide-output": false
   },
   "outputs": [],
   "source": [
    "fig, gax = plt.subplots(figsize = (10,8))\n",
    "\n",
    "# Plot the state\n",
    "state_df[state_df['NAME'] == 'Wisconsin'].plot(ax = gax, edgecolor='black',color='white')\n",
    "\n",
    "# Plot the counties and pass 'rel_trump_share' as the data to color\n",
    "res_w_states.plot(\n",
    "    ax=gax, edgecolor='black', column='rel_trump_share', legend=True, cmap='RdBu_r',\n",
    "    vmin=0.2, vmax=0.8\n",
    ")\n",
    "\n",
    "# Add some text to let people know what we are plotting\n",
    "gax.annotate('Republican vote share',xy=(0.76, 0.06),  xycoords='figure fraction')\n",
    "\n",
    "# I don't want the axis with long and lat\n",
    "plt.axis('off')\n",
    "\n",
    "plt.show()"
   ]
  },
  {
   "cell_type": "markdown",
   "metadata": {},
   "source": [
    "What do you see from this map?\n",
    "\n",
    "How many counties did Trump win? How many did Clinton win?"
   ]
  },
  {
   "cell_type": "code",
   "execution_count": null,
   "metadata": {
    "hide-output": false
   },
   "outputs": [],
   "source": [
    "res_w_states.eval(\"trump > clinton\").sum()"
   ]
  },
  {
   "cell_type": "code",
   "execution_count": null,
   "metadata": {
    "hide-output": false
   },
   "outputs": [],
   "source": [
    "res_w_states.eval(\"clinton > trump\").sum()"
   ]
  },
  {
   "cell_type": "markdown",
   "metadata": {},
   "source": [
    "Who had more votes? Do you think a comparison in counties won or votes won is more reasonable? Why\n",
    "do you think they diverge?"
   ]
  },
  {
   "cell_type": "code",
   "execution_count": null,
   "metadata": {
    "hide-output": false
   },
   "outputs": [],
   "source": [
    "res_w_states[\"trump\"].sum()"
   ]
  },
  {
   "cell_type": "code",
   "execution_count": null,
   "metadata": {
    "hide-output": false
   },
   "outputs": [],
   "source": [
    "res_w_states[\"clinton\"].sum()"
   ]
  },
  {
   "cell_type": "markdown",
   "metadata": {},
   "source": [
    "What story could you tell about this divergence?"
   ]
  },
  {
   "cell_type": "markdown",
   "metadata": {},
   "source": [
    "### Interactivity\n",
    "\n",
    "There are multiple python libraries for creating interactive figures\n",
    "\n",
    "Here we will see an example using bokeh\n",
    "\n",
    "In the another lecture we will see an example with folium."
   ]
  },
  {
   "cell_type": "code",
   "execution_count": null,
   "metadata": {
    "hide-output": false
   },
   "outputs": [],
   "source": [
    "from bokeh.io import output_notebook\n",
    "from bokeh.plotting import figure, ColumnDataSource\n",
    "from bokeh.io import output_notebook, show, output_file\n",
    "from bokeh.plotting import figure\n",
    "from bokeh.models import GeoJSONDataSource, LinearColorMapper, ColorBar, HoverTool\n",
    "from bokeh.palettes import brewer\n",
    "output_notebook()\n",
    "import json\n",
    "res_w_states[\"clinton_share\"] = res_w_states[\"clinton\"] / res_w_states[\"total\"]\n",
    "#Convert data to geojson for bokeh\n",
    "wi_geojson=GeoJSONDataSource(geojson=res_w_states.to_json())"
   ]
  },
  {
   "cell_type": "code",
   "execution_count": null,
   "metadata": {
    "hide-output": false
   },
   "outputs": [],
   "source": [
    "color_mapper = LinearColorMapper(palette = brewer['RdBu'][10], low = 0, high = 1)\n",
    "color_bar = ColorBar(color_mapper=color_mapper, label_standoff=8,width = 500, height = 20,\n",
    "                     border_line_color=None,location = (0,0), orientation = 'horizontal')\n",
    "hover = HoverTool(tooltips = [ ('County','@county'),('Portion Trump', '@trump_share'),\n",
    "                               ('Portion Clinton','@clinton_share'),\n",
    "                               ('Total','@total')])\n",
    "p = figure(title=\"Wisconsin Voting in 2016 Presidential Election\", tools=[hover])\n",
    "p.patches(\"xs\",\"ys\",source=wi_geojson,\n",
    "          fill_color = {'field' :'rel_trump_share', 'transform' : color_mapper})\n",
    "p.add_layout(color_bar, 'below')\n",
    "show(p)"
   ]
  }
 ],
 "metadata": {
  "filename": "maps.rst",
  "kernelspec": {
   "display_name": "Python",
   "language": "python3",
   "name": "python3"
  },
  "title": "Mapping in Python"
 },
 "nbformat": 4,
 "nbformat_minor": 2
}