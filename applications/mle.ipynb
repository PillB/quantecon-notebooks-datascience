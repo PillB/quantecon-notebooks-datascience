{
 "cells": [
  {
   "cell_type": "markdown",
   "metadata": {},
   "source": [
    "# Maximum likelihood"
   ]
  },
  {
   "cell_type": "markdown",
   "metadata": {},
   "source": [
    "## Outline\n",
    "\n",
    "- [Maximum likelihood](#Maximum-likelihood)  "
   ]
  },
  {
   "cell_type": "markdown",
   "metadata": {},
   "source": [
    "We now introduce the notion of a likelihood function. Let $ x = \\{ x_i \\}_{i=1}^N $ be observed\n",
    "data and let $ f_\\theta $ be a probability distribution that is described by parameters\n",
    "$ \\theta $\n",
    "\n",
    "The likelihood function measures how likely the data is given the probability distribution\n",
    "\n",
    "$$\n",
    "\\mathcal{L}(x, f_\\theta) = \\prod_i f_\\theta(x_i)\n",
    "$$\n",
    "\n",
    "Let’s start with the simplest example possible:\n",
    "\n",
    "Let $ x = \\{ 0, 1, 0, 1, 1 \\} $ and $ f_\\theta = \\text{Bernoulli}(p=0.75) $\n",
    "\n",
    "The probability mass function of a Bernoulli distribution is given by\n",
    "\n",
    "$$\n",
    "f_{p}(x) = \\begin{cases} p \\quad \\text{if } x = 1 \\\\ (1 - p) \\quad \\text{if } x = 0 \\end{cases}\n",
    "$$\n",
    "\n",
    "Thus our likelihood is $ \\mathcal{L}(x, f_{0.75}) = (0.25) (0.75) (0.25) (0.75) (0.75) = 0.026 $\n",
    "\n",
    "And for any $ p $ that potentially differed from 0.75, we could write the likelihood as\n",
    "$ \\mathcal{L}(x, f_p) = (1-p)^2 p^3 $\n",
    "\n",
    "Maximum likelihood is taking the likelihood function and maximizing with respect to the parameters\n",
    "that define the distribution – In this case $ p $\n",
    "\n",
    "We can write\n",
    "\n",
    "$$\n",
    "\\begin{align}\n",
    "    \\frac{\\partial \\mathcal{L}}{\\partial p} &= -2 (1 - p) p^3 + 3p^2 (1-p)^2 = 0 \\\\\n",
    "    2 (1 - p) p^3 &= 3 p^2 (1 - p)^2 \\\\\n",
    "    2 p^3 - 2 p^4 &= 3p^2 - 6p^3 + 3p^4 \\\\\n",
    "    0 &= p^2 (5p^2 - 8p + 3)\n",
    "\\end{align}\n",
    "$$\n",
    "\n",
    "This equation has three solutions: (0.0, 0.6, 1.0)\n",
    "\n",
    "If you remember from your calculus course, the way to differentiate between a minimum and maximum\n",
    "is by checking the second derivative. We can verify that the solution $ p = 0.6 $ has a negative\n",
    "second negative meaning that the maximum likelihood estimate of p is 0.6\n",
    "\n",
    "\n",
    "<dl style='margin: 20px 0;'>\n",
    "<dt>**Exercise**: Stare at the three solutions to the derivative of the likelihood function. How else</dt>\n",
    "<dd>\n",
    "might you have determined that 0.0 and 1.0 were unlikely to be the solution? How else\n",
    "might you have determined that 0.6 was the maximum likelihood estimate?\n",
    "\n",
    "</dd>\n",
    "\n",
    "</dl>\n",
    "\n",
    "Economic example? Unemployment duration using exponential distribution?"
   ]
  }
 ],
 "metadata": {
  "filename": "mle.rst",
  "kernelspec": {
   "display_name": "Python",
   "language": "python3",
   "name": "python3"
  },
  "title": "Maximum likelihood"
 },
 "nbformat": 4,
 "nbformat_minor": 2
}