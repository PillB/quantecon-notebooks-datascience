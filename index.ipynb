{
 "cells": [
  {
   "cell_type": "markdown",
   "metadata": {},
   "source": [
    "# Home\n",
    "\n",
    "- [Introduction](introduction/index.ipynb)\n",
    "  - [Course Description](introduction/overview.ipynb)\n",
    "  - [Getting Started](introduction/getting_started.ipynb)\n",
    "  - [Cloud Setup](introduction/cloud_setup.ipynb)\n",
    "  - [Local Installation](introduction/local_install.ipynb)\n",
    "- [Python Fundamentals](pyfun/index.ipynb)\n",
    "  - [Basics](pyfun/basics.ipynb)\n",
    "  - [Collections](pyfun/collections.ipynb)\n",
    "  - [Control Flow](pyfun/control_flow.ipynb)\n",
    "  - [Functions](pyfun/functions.ipynb)\n",
    "- [Scientific Computing](scientific/index.ipynb)\n",
    "  - [Introduction to Numpy](scientific/numpy_arrays.ipynb)\n",
    "  - [Plotting](scientific/plotting.ipynb)\n",
    "  - [Applied Linear Algebra](scientific/applied_linalg.ipynb)\n",
    "  - [Randomness](scientific/randomness.ipynb)\n",
    "  - [Optimization](scientific/optimization.ipynb)\n",
    "- [Pandas](pandas/index.ipynb)\n",
    "  - [Introduction](pandas/intro.ipynb)\n",
    "  - [Basic functionality](pandas/basics.ipynb)\n",
    "  - [The index](pandas/the_index.ipynb)\n",
    "  - [Cleaning Data](pandas/data_clean.ipynb)\n",
    "  - [Reshape](pandas/reshape.ipynb)\n",
    "  - [Merge](pandas/merge.ipynb)\n",
    "  - [Group By](pandas/groupby.ipynb)\n",
    "  - [Time series](pandas/timeseries.ipynb)\n",
    "  - [Intermediate plotting](pandas/matplotlib.ipynb)\n",
    "- [Applications](applications/index.ipynb)\n",
    "  - [Data Visualization: Rules and Guidelines](applications/visualization_rules.ipynb)\n",
    "  - [Regression](applications/regression.ipynb)\n",
    "  - [Case Study: Recidivism](applications/recidivism.ipynb)\n",
    "  - [Mapping in Python](applications/maps.ipynb)\n",
    "  - [Classification](applications/classification.ipynb)\n",
    "  - [Working with Text](applications/working_with_text.ipynb)\n",
    "  - [Machine Learning in Economics](applications/ml_in_economics.ipynb)\n",
    "  - [Heterogeneous Effects](applications/heterogeneity.ipynb)"
   ]
  }
 ],
 "metadata": {
  "filename": "index.rst",
  "kernelspec": {
   "display_name": "Python",
   "language": "python3",
   "name": "python3"
  },
  "title": "Home"
 },
 "nbformat": 4,
 "nbformat_minor": 2
}