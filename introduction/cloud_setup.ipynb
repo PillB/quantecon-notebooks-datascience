{
 "cells": [
  {
   "cell_type": "markdown",
   "metadata": {},
   "source": [
    "# Cloud Setup"
   ]
  },
  {
   "cell_type": "markdown",
   "metadata": {},
   "source": [
    "## Launch Environments\n",
    "\n",
    "There are various cloud based Jupyter server environments that have been configured to work with\n",
    "[QuantEcon Data Science](https://datascience.quantecon.org)\n",
    "\n",
    "These environments provide a Jupyter interface which displays in your browser but the code is hosted\n",
    "and run on the cloud\n",
    "\n",
    "This allows you to interact with this lecture material without requiring you to install Python or\n",
    "any other required software on your own computer\n",
    "\n",
    "To launch one of these environments, you should hover over the `Launch Notebook` button at the\n",
    "bottom right of the page (see image)\n",
    "\n",
    "<br>\n",
    "\n",
    "<img src=\"https://storage.googleapis.com/qeds/_static/introduction_files/cloud_launch.png\" style=\"\">\n",
    "\n",
    "  \n",
    "<br>\n",
    "\n",
    "The dropdown menu will allow you to pick from one of several cloud services\n",
    "\n",
    "Making a selection will open a new tab in your browser where a Jupyter notebook version of the\n",
    "current lecture page will be opened with the selected cloud service\n",
    "\n",
    "We discuss each of the options below"
   ]
  },
  {
   "cell_type": "markdown",
   "metadata": {},
   "source": [
    "### Pacific Institute for Mathematical Sciences: syzygy\n",
    "\n",
    "This cloud service is provided by the\n",
    "[Pacific Institute for Mathematical Sciences (PIMS)](https://www.pims.math.ca) at UBC\n",
    "\n",
    "A major benefit of this environment is that we have worked with PIMS to install all of the software\n",
    "that shows up in our lectures\n",
    "\n",
    "Additionally, they are serving an unaltered version of Jupyter so it will be easy to find help\n",
    "online and it will feel very similar to a local installation if you have one configured\n",
    "\n",
    "Finally, it is the only service that has persistent storage by default (your work will be saved\n",
    "indefinitely)\n",
    "\n",
    "This is the service that we typically recommend"
   ]
  },
  {
   "cell_type": "markdown",
   "metadata": {},
   "source": [
    "#### Launching syzygy\n",
    "\n",
    "The name of the service provided by PIMS is called syzygy\n",
    "\n",
    "The steps to launch syzygy are:\n",
    "\n",
    "**1.** Move your mouse to the `Launch Notebook` button at the bottom of the page\n",
    "\n",
    "You will notice that syzygy is the default option and, unless you have already selected a different\n",
    "option, it should show up in the box\n",
    "\n",
    "If you had previously used a different service and you’d like to switch back, then just select the\n",
    "`pims.syzygy.ca` option.\n",
    "\n",
    "**2.** Once you’ve done this, click the `Launch Notebook` button\n",
    "\n",
    "**3.** After you have done this, you will be brought to a screen that looks like the following\n",
    "\n",
    "<img src=\"https://storage.googleapis.com/qeds/_static/introduction_files/syzygy_login.png\" style=\"\">\n",
    "\n",
    "  \n",
    "Once you reach this page, you should click the red home button and sign in with your Google account\n",
    "\n",
    "The server will create an account for you associated with that Google account and you will have\n",
    "access to all files that you have worked on anytime you log in with that Google account\n",
    "\n",
    "**3.** After you sign in with your Google account, then you will see something similar to the\n",
    "following picture\n",
    "\n",
    "<img src=\"https://storage.googleapis.com/qeds/_static/introduction_files/syzygy_jupyter.png\" style=\"\">"
   ]
  },
  {
   "cell_type": "markdown",
   "metadata": {},
   "source": [
    "#### File management on syzygy\n",
    "\n",
    "By default syzygy will open the notebook that you clicked “Launch” from, but it downloads the other\n",
    "notebooks as well\n",
    "\n",
    "You can navigate to these other notebooks in the left bar (the Jupyter Lab file explorer)\n",
    "\n",
    "You can also create new notebooks and text files\n",
    "\n",
    "We recommend spending some time playing with the environment and working through some of the Help\n",
    "menu at the top\n",
    "\n",
    "If you have made changes to one of the notebooks and decide that you want to reset them (and put\n",
    "the notebook back to the original state), then follow these steps:\n",
    "\n",
    "- Delete the notebook and close the browser tab with syzygy instance  \n",
    "- Click `Launch Notebook` again from the website  \n",
    "\n",
    "\n",
    "Once you’ve done this, syzygy will restore the notebook back to what the original lecture material"
   ]
  },
  {
   "cell_type": "markdown",
   "metadata": {},
   "source": [
    "### Google Colab\n",
    "\n",
    "[Google Colab](https://research.google.com/colaboratory/faq.html) is a cloud service hosted by\n",
    "Google\n",
    "\n",
    "The benefits of this environment are that you can potentially use GPUs and other specialized\n",
    "computational platforms\n",
    "\n",
    "This won’t make a difference at first, but there may be some applications where having access to a\n",
    "GPU or TPU could improve performance\n",
    "\n",
    "We tend to recommend starting with the other cloud options because the environment provided isn’t\n",
    "quite the same as what you would get on your computer because Google has made their own modifications\n",
    "to underlying Jupyter software"
   ]
  },
  {
   "cell_type": "markdown",
   "metadata": {},
   "source": [
    "#### Launching Colab\n",
    "\n",
    "To launch course material through Google Colab:\n",
    "\n",
    "**1.** Move your mouse to hover over the `Launch Notebook` button at the bottom of the page\n",
    "\n",
    "You will need to select choose `google colab` from the public options\n",
    "\n",
    "**2.** Click on the `Launch Notebook` button.\n",
    "\n",
    "**3.** You will be asked to sign in with your Google account and you will see something similar to\n",
    "the following picture\n",
    "\n",
    "<img src=\"https://storage.googleapis.com/qeds/_static/introduction_files/colab_jupyter.png\" style=\"\">\n",
    "\n",
    "  \n",
    "**4.** Once you have launched a Colab notebook, you will need to make sure that any software missing\n",
    "from Colab gets installed — This step isn’t required for all notebooks\n",
    "\n",
    "For lectures where it is required we have provided a script that automatically configures missing\n",
    "software\n",
    "\n",
    "To run this script, you will need to uncomment the code at the top of the notebook and execute the\n",
    "cell — When we say “uncomment”, all we mean is to remove the `#` that precedes the `!` in the\n",
    "code that follows\n",
    "\n",
    "See the code below to see what we mean:"
   ]
  },
  {
   "cell_type": "code",
   "execution_count": null,
   "metadata": {
    "hide-output": false
   },
   "outputs": [],
   "source": [
    "# Uncomment following line to install on colab\n",
    "#! pip install qeds"
   ]
  },
  {
   "cell_type": "markdown",
   "metadata": {},
   "source": [
    "#### File management on Colab\n",
    "\n",
    "By default after you have exited a notebook, Colab will erase any work that you have done\n",
    "\n",
    "If you would like to store your work, it can be saved onto your Google Drive by clicking the\n",
    "`Copy to Drive` button\n",
    "\n",
    "You can create a new notebook by clicking `File` on the menubar and selecting\n",
    "`New Python 3 notebook`"
   ]
  }
 ],
 "metadata": {
  "filename": "cloud_setup.rst",
  "kernelspec": {
   "display_name": "Python",
   "language": "python3",
   "name": "python3"
  },
  "title": "Cloud Setup"
 },
 "nbformat": 4,
 "nbformat_minor": 2
}