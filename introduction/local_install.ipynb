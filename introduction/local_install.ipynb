{
 "cells": [
  {
   "cell_type": "markdown",
   "metadata": {},
   "source": [
    "# Local Installation"
   ]
  },
  {
   "cell_type": "markdown",
   "metadata": {},
   "source": [
    "## Installation\n",
    "\n",
    "Visit [continuum.io](https://www.anaconda.com/download) and download the\n",
    "Anaconda Python distribution for your operating system (Windows/Mac OS/Linux).\n",
    "\n",
    "Be sure to download the Python 3.X (where X is some number greater than or equal to 7) version, not\n",
    "the 2.7 version.\n",
    "\n",
    "<img src=\"https://storage.googleapis.com/qeds/_static/introduction_files/install_python.png\" style=\"\">\n",
    "\n",
    "  \n",
    "<br>\n",
    "\n",
    "Make sure that during the installation [Anaconda](https://www.anaconda.com/distribution/)\n",
    "is added to your environment/path\n",
    "\n",
    "On Mac OS and Linux this should happen by default\n",
    "\n",
    "Windows users will need to **check the upper box** when the page shown below appears (disregard\n",
    "the “not recommended” warning from Anaconda)\n",
    "\n",
    "<img src=\"https://storage.googleapis.com/qeds/_static/introduction_files/install_python_path.png\" style=\"\">"
   ]
  },
  {
   "cell_type": "markdown",
   "metadata": {},
   "source": [
    "## Downloading the QuantEcon Data Science Lectures\n",
    "\n",
    "To download the QuantEcon Data Science lectures, we will use the `Clone` button on the toolbar\n",
    "as seen in the following image\n",
    "\n",
    "<br>\n",
    "\n",
    "<img src=\"https://storage.googleapis.com/qeds/_static/introduction_files/clone_button.png\" style=\"\">\n",
    "\n",
    "  \n",
    "<br>\n",
    "\n",
    "**Github Desktop** (Mac/Windows only), recommended for most users\n",
    "\n",
    "1. Install [Github Desktop](https://desktop.github.com/)  \n",
    "1. Click the “Open in Github Desktop” option in the clone button menu. It should open a Github\n",
    "  Desktop popup that looks like this  \n",
    "  <img src=\"https://storage.googleapis.com/qeds/_static/introduction_files/download_lectures_github_desktop.png\" style=\"\">\n",
    "  \n",
    "    \n",
    "  You should choose a path you would like to download the repository to. The default path on\n",
    "  Windows should be `C:/Users/YOUR_USERNAME/`  \n",
    "\n",
    "\n",
    "**Terminal**\n",
    "\n",
    "1. Make sure that `git` is installed on your computer.  \n",
    "1. Open a terminal  \n",
    "1. Set the path to where you would like to download the lectures. The default one is your home directory.  \n",
    "1. Run `git clone https://github.com/QuantEcon/quantecon-notebooks-datascience` which will\n",
    "  download the repository with notebooks in your working directory. *Pro tip*: If you would rather\n",
    "  not type this command on your own, you can click “Copy clone command to clipboard” on the clone\n",
    "  button menu and paste it into the terminal  "
   ]
  },
  {
   "cell_type": "markdown",
   "metadata": {},
   "source": [
    "## Starting Jupyter\n",
    "\n",
    "Start Jupyter Lab by following these steps:\n",
    "\n",
    "1. Open a new terminal (for Windows, you should use the Powershell: press Win + R and type\n",
    "  `powershell` in the run box, then hit enter)  \n",
    "1. Type `jupyter lab` and press Enter  \n",
    "\n",
    "\n",
    "If a web browser doesn’t open by default, look at the terminal text and find something that looks\n",
    "like:"
   ]
  },
  {
   "cell_type": "markdown",
   "metadata": {
    "hide-output": false
   },
   "source": [
    "```md\n",
    "Copy/paste this URL into your browser when you connect for the first time,\n",
    "to login with a token:\n",
    "    http://localhost:8888/?token=9a39d3741a4f0b200c6e4b07d8e5c04a089899cddc72e7f8\n",
    "```\n"
   ]
  },
  {
   "cell_type": "markdown",
   "metadata": {},
   "source": [
    "and copy/paste the line starting with `http://` into your web browser\n",
    "\n",
    ">**Note**\n",
    ">\n",
    ">The terminal you opened must stay open while you are editing the notebooks"
   ]
  },
  {
   "cell_type": "markdown",
   "metadata": {},
   "source": [
    "### Opening a Jupyter Notebook\n",
    "\n",
    "Once the web browser is open, you should see the Jupyter Lab dashboard. You can open a new Jupyter\n",
    "notebook by clicking Python 3 when you see something like the following image in your browser\n",
    "\n",
    "<img src=\"https://storage.googleapis.com/qeds/_static/introduction_files/jupyter_lab.png\" style=\"\">\n",
    "\n",
    "  \n",
    "<br>\n",
    "\n",
    "Once the notebook is open, you should something similar to the following image\n",
    "\n",
    "<img src=\"https://storage.googleapis.com/qeds/_static/introduction_files/jupyter_lab_notebook.png\" style=\"\">\n",
    "\n",
    "  \n",
    "<br>\n",
    "\n",
    "Note that:\n",
    "\n",
    "- The filenames on the left will be different  \n",
    "- It *should* list the contents of your personal home directory (folder)  "
   ]
  },
  {
   "cell_type": "markdown",
   "metadata": {},
   "source": [
    "## Package Management\n",
    "\n",
    "In addition to Jupyter, the Anaconda Python distribution comes with two package management tools `conda` and `pip`\n",
    "\n",
    "These will help you ensure that you have the right packages (think of these as “add-ons” to Python\n",
    "that give you additional functionality… We will discuss these more in depth later!) and help you\n",
    "keep them all up to date\n",
    "\n",
    "We will work through an example below to install some new package functionality needed for some\n",
    "later lectures. Generally, packages can be installed by using `conda install <package name>` or\n",
    "`pip install <package name>`\n",
    "\n",
    "Please install the packages you will need later by following the instructions below for your\n",
    "computer’s operating system\n",
    "\n",
    "**Linux/Mac**\n",
    "\n",
    "- Open a terminal  \n",
    "- Run the following commands:  "
   ]
  },
  {
   "cell_type": "markdown",
   "metadata": {
    "hide-output": false
   },
   "source": [
    "```bash\n",
    "pip install qeds fiona geopandas pyLDAvis gensim folium xgboost --upgrade\n",
    "```\n"
   ]
  },
  {
   "cell_type": "markdown",
   "metadata": {},
   "source": [
    "\n",
    "\n",
    "**Windows**\n",
    "\n",
    "- Open a command prompt by pressing Windows + R to open the `run` box, type `cmd`, and press\n",
    "  Enter.  \n",
    "- Run the following commands in order:  "
   ]
  },
  {
   "cell_type": "markdown",
   "metadata": {
    "hide-output": false
   },
   "source": [
    "```bash\n",
    "conda install geopandas\n",
    "pip install qeds pyLDAvis gensim folium xgboost --upgrade\n",
    "```\n"
   ]
  },
  {
   "cell_type": "markdown",
   "metadata": {},
   "source": [
    "\n",
    "\n",
    "If you are told that you are missing a package at any point in time, we recommend trying to install\n",
    "the package with `conda` first and, if that doesn’t work, installing with `pip`\n",
    "\n",
    "You can update a package by running:\n",
    "\n",
    "- `conda update <package name>` for conda  \n",
    "- `pip install <package name> --upgrade` for pip  \n",
    "\n",
    "\n",
    "\n",
    "<a id='exercise-0'></a>\n",
    "> See exercise 1 in the [*exercise list*](#exerciselist-0)"
   ]
  },
  {
   "cell_type": "markdown",
   "metadata": {},
   "source": [
    "## Exercises\n",
    "\n",
    "\n",
    "<a id='exerciselist-0'></a>\n",
    "**Exercise 1**\n",
    "\n",
    "Open this file in Jupyter by navigating to the QuantEcon Data Science folder that we downloaded\n",
    "earlier, then click on the `introduction` folder, and select the `getting_started.ipynb` file\n",
    "\n",
    "([*back to text*](#exercise-0))"
   ]
  }
 ],
 "metadata": {
  "filename": "local_install.rst",
  "kernelspec": {
   "display_name": "Python",
   "language": "python3",
   "name": "python3"
  },
  "title": "Local Installation"
 },
 "nbformat": 4,
 "nbformat_minor": 2
}